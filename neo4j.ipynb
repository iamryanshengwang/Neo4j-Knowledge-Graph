{
 "cells": [
  {
   "cell_type": "code",
   "execution_count": 1,
   "id": "7df053ea-6ecb-4359-8a18-0484c76b9544",
   "metadata": {},
   "outputs": [
    {
     "name": "stdout",
     "output_type": "stream",
     "text": [
      "Defaulting to user installation because normal site-packages is not writeable\n",
      "Requirement already satisfied: pandas in c:\\users\\admin\\appdata\\local\\packages\\pythonsoftwarefoundation.python.3.12_qbz5n2kfra8p0\\localcache\\local-packages\\python312\\site-packages (2.2.2)\n",
      "Requirement already satisfied: numpy>=1.26.0 in c:\\users\\admin\\appdata\\local\\packages\\pythonsoftwarefoundation.python.3.12_qbz5n2kfra8p0\\localcache\\local-packages\\python312\\site-packages (from pandas) (1.26.4)\n",
      "Requirement already satisfied: python-dateutil>=2.8.2 in c:\\users\\admin\\appdata\\local\\packages\\pythonsoftwarefoundation.python.3.12_qbz5n2kfra8p0\\localcache\\local-packages\\python312\\site-packages (from pandas) (2.9.0.post0)\n",
      "Requirement already satisfied: pytz>=2020.1 in c:\\users\\admin\\appdata\\local\\packages\\pythonsoftwarefoundation.python.3.12_qbz5n2kfra8p0\\localcache\\local-packages\\python312\\site-packages (from pandas) (2024.1)\n",
      "Requirement already satisfied: tzdata>=2022.7 in c:\\users\\admin\\appdata\\local\\packages\\pythonsoftwarefoundation.python.3.12_qbz5n2kfra8p0\\localcache\\local-packages\\python312\\site-packages (from pandas) (2024.1)\n",
      "Requirement already satisfied: six>=1.5 in c:\\users\\admin\\appdata\\local\\packages\\pythonsoftwarefoundation.python.3.12_qbz5n2kfra8p0\\localcache\\local-packages\\python312\\site-packages (from python-dateutil>=2.8.2->pandas) (1.16.0)\n",
      "Defaulting to user installation because normal site-packages is not writeable\n",
      "Requirement already satisfied: openpyxl in c:\\users\\admin\\appdata\\local\\packages\\pythonsoftwarefoundation.python.3.12_qbz5n2kfra8p0\\localcache\\local-packages\\python312\\site-packages (3.1.2)\n",
      "Requirement already satisfied: et-xmlfile in c:\\users\\admin\\appdata\\local\\packages\\pythonsoftwarefoundation.python.3.12_qbz5n2kfra8p0\\localcache\\local-packages\\python312\\site-packages (from openpyxl) (1.1.0)\n"
     ]
    }
   ],
   "source": [
    "!pip install pandas\n",
    "!pip install openpyxl"
   ]
  },
  {
   "cell_type": "code",
   "execution_count": 105,
   "id": "1d90f010-a84c-48c2-afc3-baa37d459862",
   "metadata": {},
   "outputs": [
    {
     "name": "stdout",
     "output_type": "stream",
     "text": [
      "       Section_id Status                                               name\n",
      "0               1      ✔                            TW 9225 Rear System fan\n",
      "1               1      ✔                   9225 Rear Photocataly fan for TW\n",
      "2               1      ✔                           TW 8025 Front system fan\n",
      "3               1      ✔                       RTX3050 4GB G6 128b DVI+H+DP\n",
      "4               1      ✔                         RTX3060 12GB G6 192b H+3DP\n",
      "...           ...    ...                                                ...\n",
      "22122        7719      ✔                              Windows 10 Home 64 EM\n",
      "22123        7719      ✔                              Windows 11 Home 64 EM\n",
      "22124        7719      ✔                             F MB Dali FP5 3020E MP\n",
      "22125        7720      ✔  USB Calliope Keyboard Black US English 103P  103P\n",
      "22126        7721      ✔                              USB Fingerprint Mouse\n",
      "\n",
      "[22127 rows x 3 columns]\n"
     ]
    }
   ],
   "source": [
    "import pandas as pd\n",
    "import re\n",
    "import sqlite3\n",
    "\n",
    "def read_derived_rules(query):\n",
    "    conn = sqlite3.connect('T3.db')\n",
    "    cursor = conn.cursor()\n",
    "    cursor.execute(query)\n",
    "    data = cursor.fetchall()\n",
    "    conn.close()\n",
    "    return data\n",
    "\n",
    "queries = {\n",
    "    'components': 'SELECT Component FROM T3_table',\n",
    "    'project_name': 'SELECT [Project name] FROM T3_table',\n",
    "    'version': 'SELECT Version FROM T3_table',\n",
    "    'date': 'SELECT Date FROM T3_table',\n",
    "    'owner': 'SELECT Owner FROM T3_table',\n",
    "    'OD_rules': 'SELECT [OD rules] FROM T3_table'\n",
    "}\n",
    "\n",
    "components = [row[0] for row in read_derived_rules(queries['components'])]\n",
    "project_name = [row[0] for row in read_derived_rules(queries['project_name'])]\n",
    "version = [row[0] for row in read_derived_rules(queries['version'])]\n",
    "date = [row[0] for row in read_derived_rules(queries['date'])]\n",
    "owner = [row[0] for row in read_derived_rules(queries['owner'])]\n",
    "OD_rules = [row[0] for row in read_derived_rules(queries['OD_rules']) if row[0] is not None]\n",
    "\n",
    "rules = [row[0] for row in read_derived_rules('SELECT rules FROM T3_table WHERE Type=\"Derive\"') if row[0] is not None]\n",
    "newrules = [line.split(']')[0] for line in rules]\n",
    "\n",
    "pattern = r'([✔✘])\\s*(.*)'\n",
    "data = []\n",
    "section_id = 1\n",
    "\n",
    "for section in OD_rules:\n",
    "    items = re.split(r'\\s*\\|\\|\\s*|\\s*&&\\s*|\\s*\\(\\s*|\\s*\\)\\s*', section)\n",
    "    section_data = []\n",
    "    for item in items:\n",
    "        match = re.match(pattern, item)\n",
    "        if match:\n",
    "            status, name = match.groups()\n",
    "            section_data.append((section_id, status, name))\n",
    "    if section_data:\n",
    "        data.extend(section_data)\n",
    "    section_id += 1\n",
    "\n",
    "df = pd.DataFrame(data, columns=['Section_id', 'Status', 'name'])\n",
    "df['name'] = df['name'].str.replace(r'\\bOnly\\b.*', '', regex=True).str.strip()\n",
    "df['name'] = df['name'].str.replace(r'\\bSBB\\w*\\b', '', regex=True).str.strip()\n",
    "df['Section_id'] = pd.factorize(df['Section_id'])[0] + 1\n",
    "\n",
    "print(df)\n"
   ]
  },
  {
   "cell_type": "code",
   "execution_count": 106,
   "id": "42d2862b-58cd-4844-be87-b104f5a9cedd",
   "metadata": {},
   "outputs": [],
   "source": [
    "import sqlite3 \n",
    "from py2neo import Graph, Node, Relationship\n",
    "g = Graph('neo4j://localhost:7687', auth = ('neo4j', 'ys1203303'))\n",
    "g.run(\"MATCH (n) DETACH DELETE n\") \n",
    "for i in range(7720):\n",
    "    node1 = Node(\n",
    "            \"parent\",\n",
    "            Name = newrules[i],\n",
    "            Component = components[i],\n",
    "            originalRule = rules[i],\n",
    "            Type = \"Derive\",\n",
    "            ProjectName = project_name[i],\n",
    "            Version = version[i],\n",
    "            owner = owner[i], \n",
    "            date = date[i],\n",
    "            ruleIndex = OD_rules[i])\n",
    "    g.create(node1) \n",
    "    section_df = df[df['Section_id'] == i + 1] \n",
    "    for s, ss in section_df.iterrows():\n",
    "        node2 = Node(\n",
    "            \"son\", \n",
    "            Name = ss['name'],\n",
    "            Component = components[i],\n",
    "            originalRule = rules[i],\n",
    "            Type = \"Derive\",\n",
    "            ProjectName = project_name[i],\n",
    "            Version = version[i],\n",
    "            owner = owner[i], \n",
    "            date = date[i],\n",
    "            ruleIndex = OD_rules[i])\n",
    "        g.create(node2)\n",
    "        if ss['Status'] == '✔':\n",
    "            relationship = Relationship(node2, \"should\", node1) \n",
    "        else:\n",
    "            relationship = Relationship(node2, \"should not\", node1) \n",
    "        g.create(relationship) "
   ]
  }
 ],
 "metadata": {
  "kernelspec": {
   "display_name": "Python 3 (ipykernel)",
   "language": "python",
   "name": "python3"
  },
  "language_info": {
   "codemirror_mode": {
    "name": "ipython",
    "version": 3
   },
   "file_extension": ".py",
   "mimetype": "text/x-python",
   "name": "python",
   "nbconvert_exporter": "python",
   "pygments_lexer": "ipython3",
   "version": "3.12.3"
  }
 },
 "nbformat": 4,
 "nbformat_minor": 5
}
