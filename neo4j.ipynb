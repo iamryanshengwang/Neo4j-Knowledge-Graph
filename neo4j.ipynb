{
 "cells": [
  {
   "cell_type": "code",
   "execution_count": 1,
   "id": "7df053ea-6ecb-4359-8a18-0484c76b9544",
   "metadata": {},
   "outputs": [
    {
     "name": "stdout",
     "output_type": "stream",
     "text": [
      "Defaulting to user installation because normal site-packages is not writeable\n",
      "Requirement already satisfied: pandas in c:\\users\\admin\\appdata\\local\\packages\\pythonsoftwarefoundation.python.3.12_qbz5n2kfra8p0\\localcache\\local-packages\\python312\\site-packages (2.2.2)\n",
      "Requirement already satisfied: numpy>=1.26.0 in c:\\users\\admin\\appdata\\local\\packages\\pythonsoftwarefoundation.python.3.12_qbz5n2kfra8p0\\localcache\\local-packages\\python312\\site-packages (from pandas) (1.26.4)\n",
      "Requirement already satisfied: python-dateutil>=2.8.2 in c:\\users\\admin\\appdata\\local\\packages\\pythonsoftwarefoundation.python.3.12_qbz5n2kfra8p0\\localcache\\local-packages\\python312\\site-packages (from pandas) (2.9.0.post0)\n",
      "Requirement already satisfied: pytz>=2020.1 in c:\\users\\admin\\appdata\\local\\packages\\pythonsoftwarefoundation.python.3.12_qbz5n2kfra8p0\\localcache\\local-packages\\python312\\site-packages (from pandas) (2024.1)\n",
      "Requirement already satisfied: tzdata>=2022.7 in c:\\users\\admin\\appdata\\local\\packages\\pythonsoftwarefoundation.python.3.12_qbz5n2kfra8p0\\localcache\\local-packages\\python312\\site-packages (from pandas) (2024.1)\n",
      "Requirement already satisfied: six>=1.5 in c:\\users\\admin\\appdata\\local\\packages\\pythonsoftwarefoundation.python.3.12_qbz5n2kfra8p0\\localcache\\local-packages\\python312\\site-packages (from python-dateutil>=2.8.2->pandas) (1.16.0)\n",
      "Defaulting to user installation because normal site-packages is not writeable\n",
      "Requirement already satisfied: openpyxl in c:\\users\\admin\\appdata\\local\\packages\\pythonsoftwarefoundation.python.3.12_qbz5n2kfra8p0\\localcache\\local-packages\\python312\\site-packages (3.1.2)\n",
      "Requirement already satisfied: et-xmlfile in c:\\users\\admin\\appdata\\local\\packages\\pythonsoftwarefoundation.python.3.12_qbz5n2kfra8p0\\localcache\\local-packages\\python312\\site-packages (from openpyxl) (1.1.0)\n"
     ]
    }
   ],
   "source": [
    "!pip install pandas\n",
    "!pip install openpyxl"
   ]
  },
  {
   "cell_type": "code",
   "execution_count": 69,
   "id": "1d90f010-a84c-48c2-afc3-baa37d459862",
   "metadata": {},
   "outputs": [
    {
     "name": "stdout",
     "output_type": "stream",
     "text": [
      "      Section_id Status                                               name\n",
      "0              1      ✔      Intel i3-12100 3.3GHz/4C/8T/12M 60W DDR5 4800\n",
      "1              2      ✔  Intel Pentium Gold G7400 3.7GHz/2C/4T/6M 46W D...\n",
      "2              3      ✔  Intel Celeron G6900 3.4GHz/2C/2T/4M 46W DDR5 4800\n",
      "3              4      ✔    Intel i9-12900 2.4GHz/16C/24T/30M 65W DDR5 4800\n",
      "4              5      ✔    Intel i7-12700 2.1GHz/12C/20T/25M 65W DDR5 4800\n",
      "...          ...    ...                                                ...\n",
      "2028         996      ✔                       ThinkSmart IP Controller Kit\n",
      "2029         997      ✔                       ThinkSmart IP Controller Kit\n",
      "2030         998      ✔                       ThinkSmart IP Controller Kit\n",
      "2031         999      ✔                       ThinkSmart IP Controller Kit\n",
      "2032        1000      ✔                       ThinkSmart IP Controller Kit\n",
      "\n",
      "[2033 rows x 3 columns]\n"
     ]
    }
   ],
   "source": [
    "import pandas as pd\n",
    "import re\n",
    "def read_file(file_path):\n",
    "    with open(file_path, 'r', encoding='utf-8') as file:\n",
    "        return file.readlines()\n",
    "newrules = read_file('newrules.txt')\n",
    "components = read_file('component.txt')\n",
    "rules = read_file('rules.txt') \n",
    "type_and_etc = [line.split('\\t') for line in read_file('type and etc.txt')]\n",
    "sections = []\n",
    "buffer = []\n",
    "with open('OD rules.txt', 'r', encoding='utf-8') as file:\n",
    "    for line in file:\n",
    "        stripped_line = line.strip()\n",
    "        if stripped_line == '':\n",
    "            if buffer:\n",
    "                sections.append(' '.join(buffer))\n",
    "                buffer = []\n",
    "        else:\n",
    "            buffer.append(stripped_line)\n",
    "    if buffer:\n",
    "        sections.append(' '.join(buffer))\n",
    "pattern = r'([✔✘])\\s*(.*)'\n",
    "data = []\n",
    "section_id = 1\n",
    "for section in sections:\n",
    "    items = re.split(r'\\s*\\|\\|\\s*|\\s*&&\\s*|\\s*\\(\\s*|\\s*\\)\\s*', section)\n",
    "    section_data = []\n",
    "    for item in items:\n",
    "        match = re.match(pattern, item) \n",
    "        if match:\n",
    "            status, name = match.groups()\n",
    "            section_data.append((section_id, status, name))\n",
    "    if section_data:\n",
    "        data.extend(section_data)\n",
    "    section_id += 1\n",
    "df = pd.DataFrame(data, columns=['Section_id', 'Status', 'name'])\n",
    "df['name'] = df['name'].str.replace(r'\\bOnly\\b.*', '', regex=True).str.strip()\n",
    "df['name'] = df['name'].str.replace(r'\\bSBB\\w*\\b', '', regex=True).str.strip()\n",
    "print(df) "
   ]
  },
  {
   "cell_type": "code",
   "execution_count": 83,
   "id": "42d2862b-58cd-4844-be87-b104f5a9cedd",
   "metadata": {},
   "outputs": [],
   "source": [
    "import sqlite3 \n",
    "from py2neo import Graph, Node, Relationship\n",
    "g = Graph('neo4j://localhost:7687', auth = ('neo4j', 'ys1203303'))\n",
    "g.run(\"MATCH (n) DETACH DELETE n\") \n",
    "for i in range(999):\n",
    "    node1 = Node(\n",
    "            \"parent\",\n",
    "            Name = newrules[i],\n",
    "            Component = components[i],\n",
    "            originalRule = rules[i],\n",
    "            Type = \"Derive\",\n",
    "            ProjectName = type_and_etc[i][0],\n",
    "            Version = type_and_etc[i][1],\n",
    "            owner = type_and_etc[i][3], \n",
    "            date = type_and_etc[i][2],\n",
    "            ruleIndex = sections[i])\n",
    "    g.create(node1) \n",
    "    section_df = df[df['Section_id'] == i + 1] \n",
    "    for s, ss in section_df.iterrows():\n",
    "        node2 = Node(\n",
    "            \"son\", \n",
    "            Name = ss['name'],\n",
    "            Component = components[i],\n",
    "            originalRule = rules[i],\n",
    "            Type = \"Derive\",\n",
    "            ProjectName = type_and_etc[i][0],\n",
    "            Version = type_and_etc[i][1],\n",
    "            owner = type_and_etc[i][3], \n",
    "            date = type_and_etc[i][2],\n",
    "            ruleIndex = sections[i])\n",
    "        g.create(node2)\n",
    "        if ss['Status'] == '✔':\n",
    "            relationship = Relationship(node2, \"should\", node1) \n",
    "        else:\n",
    "            relationship = Relationship(node2, \"should not\", node1) \n",
    "        g.create(relationship) "
   ]
  }
 ],
 "metadata": {
  "kernelspec": {
   "display_name": "Python 3 (ipykernel)",
   "language": "python",
   "name": "python3"
  },
  "language_info": {
   "codemirror_mode": {
    "name": "ipython",
    "version": 3
   },
   "file_extension": ".py",
   "mimetype": "text/x-python",
   "name": "python",
   "nbconvert_exporter": "python",
   "pygments_lexer": "ipython3",
   "version": "3.12.3"
  }
 },
 "nbformat": 4,
 "nbformat_minor": 5
}
